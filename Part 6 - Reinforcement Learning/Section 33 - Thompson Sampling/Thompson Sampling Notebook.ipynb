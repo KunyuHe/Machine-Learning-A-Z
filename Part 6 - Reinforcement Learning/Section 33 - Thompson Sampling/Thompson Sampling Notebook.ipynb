{
 "cells": [
  {
   "cell_type": "markdown",
   "metadata": {},
   "source": [
    "# Thompson Sampling Notebook"
   ]
  },
  {
   "cell_type": "markdown",
   "metadata": {},
   "source": [
    "#### *Author: Kunyu He*\n",
    "#### *University of Chicago, CAPP'20*"
   ]
  },
  {
   "cell_type": "code",
   "execution_count": 55,
   "metadata": {},
   "outputs": [],
   "source": [
    "import pandas as pd\n",
    "import numpy as np\n",
    "import math\n",
    "import matplotlib.pyplot as plt\n",
    "\n",
    "from collections import Counter\n",
    "from collections import OrderedDict"
   ]
  },
  {
   "cell_type": "markdown",
   "metadata": {},
   "source": [
    "### Load Data"
   ]
  },
  {
   "cell_type": "markdown",
   "metadata": {},
   "source": [
    "Index of the ads are on the column, and each line represents a subject's response to the ads."
   ]
  },
  {
   "cell_type": "code",
   "execution_count": 23,
   "metadata": {},
   "outputs": [
    {
     "data": {
      "text/html": [
       "<div>\n",
       "<style scoped>\n",
       "    .dataframe tbody tr th:only-of-type {\n",
       "        vertical-align: middle;\n",
       "    }\n",
       "\n",
       "    .dataframe tbody tr th {\n",
       "        vertical-align: top;\n",
       "    }\n",
       "\n",
       "    .dataframe thead th {\n",
       "        text-align: right;\n",
       "    }\n",
       "</style>\n",
       "<table border=\"1\" class=\"dataframe\">\n",
       "  <thead>\n",
       "    <tr style=\"text-align: right;\">\n",
       "      <th></th>\n",
       "      <th>Ad 1</th>\n",
       "      <th>Ad 2</th>\n",
       "      <th>Ad 3</th>\n",
       "      <th>Ad 4</th>\n",
       "      <th>Ad 5</th>\n",
       "      <th>Ad 6</th>\n",
       "      <th>Ad 7</th>\n",
       "      <th>Ad 8</th>\n",
       "      <th>Ad 9</th>\n",
       "      <th>Ad 10</th>\n",
       "    </tr>\n",
       "  </thead>\n",
       "  <tbody>\n",
       "    <tr>\n",
       "      <th>0</th>\n",
       "      <td>1</td>\n",
       "      <td>0</td>\n",
       "      <td>0</td>\n",
       "      <td>0</td>\n",
       "      <td>1</td>\n",
       "      <td>0</td>\n",
       "      <td>0</td>\n",
       "      <td>0</td>\n",
       "      <td>1</td>\n",
       "      <td>0</td>\n",
       "    </tr>\n",
       "    <tr>\n",
       "      <th>1</th>\n",
       "      <td>0</td>\n",
       "      <td>0</td>\n",
       "      <td>0</td>\n",
       "      <td>0</td>\n",
       "      <td>0</td>\n",
       "      <td>0</td>\n",
       "      <td>0</td>\n",
       "      <td>0</td>\n",
       "      <td>1</td>\n",
       "      <td>0</td>\n",
       "    </tr>\n",
       "    <tr>\n",
       "      <th>2</th>\n",
       "      <td>0</td>\n",
       "      <td>0</td>\n",
       "      <td>0</td>\n",
       "      <td>0</td>\n",
       "      <td>0</td>\n",
       "      <td>0</td>\n",
       "      <td>0</td>\n",
       "      <td>0</td>\n",
       "      <td>0</td>\n",
       "      <td>0</td>\n",
       "    </tr>\n",
       "    <tr>\n",
       "      <th>3</th>\n",
       "      <td>0</td>\n",
       "      <td>1</td>\n",
       "      <td>0</td>\n",
       "      <td>0</td>\n",
       "      <td>0</td>\n",
       "      <td>0</td>\n",
       "      <td>0</td>\n",
       "      <td>1</td>\n",
       "      <td>0</td>\n",
       "      <td>0</td>\n",
       "    </tr>\n",
       "    <tr>\n",
       "      <th>4</th>\n",
       "      <td>0</td>\n",
       "      <td>0</td>\n",
       "      <td>0</td>\n",
       "      <td>0</td>\n",
       "      <td>0</td>\n",
       "      <td>0</td>\n",
       "      <td>0</td>\n",
       "      <td>0</td>\n",
       "      <td>0</td>\n",
       "      <td>0</td>\n",
       "    </tr>\n",
       "  </tbody>\n",
       "</table>\n",
       "</div>"
      ],
      "text/plain": [
       "   Ad 1  Ad 2  Ad 3  Ad 4  Ad 5  Ad 6  Ad 7  Ad 8  Ad 9  Ad 10\n",
       "0     1     0     0     0     1     0     0     0     1      0\n",
       "1     0     0     0     0     0     0     0     0     1      0\n",
       "2     0     0     0     0     0     0     0     0     0      0\n",
       "3     0     1     0     0     0     0     0     1     0      0\n",
       "4     0     0     0     0     0     0     0     0     0      0"
      ]
     },
     "execution_count": 23,
     "metadata": {},
     "output_type": "execute_result"
    }
   ],
   "source": [
    "ads = pd.read_csv(\"Ads_CTR_Optimisation.csv\")\n",
    "ads.head()"
   ]
  },
  {
   "cell_type": "markdown",
   "metadata": {},
   "source": [
    "### Data Cleaning"
   ]
  },
  {
   "cell_type": "code",
   "execution_count": 24,
   "metadata": {},
   "outputs": [
    {
     "data": {
      "text/plain": [
       "Ad 1     0\n",
       "Ad 2     0\n",
       "Ad 3     0\n",
       "Ad 4     0\n",
       "Ad 5     0\n",
       "Ad 6     0\n",
       "Ad 7     0\n",
       "Ad 8     0\n",
       "Ad 9     0\n",
       "Ad 10    0\n",
       "dtype: int64"
      ]
     },
     "execution_count": 24,
     "metadata": {},
     "output_type": "execute_result"
    }
   ],
   "source": [
    "ads.isnull().sum(axis=0)"
   ]
  },
  {
   "cell_type": "markdown",
   "metadata": {},
   "source": [
    "No value missing."
   ]
  },
  {
   "cell_type": "markdown",
   "metadata": {},
   "source": [
    "### A Random Strategy as Benchmark"
   ]
  },
  {
   "cell_type": "code",
   "execution_count": 25,
   "metadata": {},
   "outputs": [
    {
     "name": "stdout",
     "output_type": "stream",
     "text": [
      "Total reward of startegies randomly selected is 1229.\n"
     ]
    }
   ],
   "source": [
    "np.random.seed(123)\n",
    "\n",
    "N, d = ads.shape\n",
    "ads_selected = []\n",
    "total_reward = 0\n",
    "\n",
    "for n in range(0, N):\n",
    "    ad = np.random.randint(0, d)\n",
    "    ads_selected.append(ad)\n",
    "    total_reward += ads.values[n, ad]\n",
    "\n",
    "print(\"Total reward of startegies randomly selected is {}.\".format(total_reward))"
   ]
  },
  {
   "cell_type": "code",
   "execution_count": 26,
   "metadata": {},
   "outputs": [
    {
     "data": {
      "text/plain": [
       "{2: 1019,\n",
       " 6: 1004,\n",
       " 1: 981,\n",
       " 3: 1005,\n",
       " 9: 999,\n",
       " 0: 1027,\n",
       " 4: 1022,\n",
       " 7: 986,\n",
       " 8: 1010,\n",
       " 5: 947}"
      ]
     },
     "execution_count": 26,
     "metadata": {},
     "output_type": "execute_result"
    }
   ],
   "source": [
    "counts = dict(Counter(ads_selected))\n",
    "counts"
   ]
  },
  {
   "cell_type": "markdown",
   "metadata": {},
   "source": [
    "We can see that the advertisements are selected equivalently, which is expected."
   ]
  },
  {
   "cell_type": "markdown",
   "metadata": {},
   "source": [
    "### UCB from Scratch"
   ]
  },
  {
   "cell_type": "code",
   "execution_count": 27,
   "metadata": {},
   "outputs": [],
   "source": [
    "def ucb(data):\n",
    "    \"\"\"\n",
    "    \"\"\"\n",
    "    N, d = data.shape\n",
    "    strategies_selected = []\n",
    "    frequencies_by_strategy = [0] * d\n",
    "    rewards_by_strategy = [0] * d\n",
    "    total_reward = 0\n",
    "    \n",
    "    for n in range(0, N):\n",
    "        strategy = 0\n",
    "        max_upper_bound = 0\n",
    "        for i in range(0, d):\n",
    "            if frequencies_by_strategy[i] > 0:\n",
    "                expected_reward = rewards_by_strategy[i] / frequencies_by_strategy[i]\n",
    "                margin = math.sqrt(3/2 * math.log(n + 1) / frequencies_by_strategy[i])\n",
    "                upper_bound = expected_reward + margin\n",
    "            else:\n",
    "                upper_bound = 1e400\n",
    "\n",
    "            if upper_bound > max_upper_bound:\n",
    "                max_upper_bound = upper_bound\n",
    "                strategy = i\n",
    "\n",
    "        strategies_selected.append(strategy)\n",
    "        frequencies_by_strategy[strategy] += 1\n",
    "        rewards_by_strategy[strategy] += data.values[n, strategy]\n",
    "        total_reward += data.values[n, strategy]\n",
    "\n",
    "    return total_reward, strategies_selected, rewards_by_strategy"
   ]
  },
  {
   "cell_type": "code",
   "execution_count": 28,
   "metadata": {},
   "outputs": [
    {
     "name": "stdout",
     "output_type": "stream",
     "text": [
      "Total reward of startegies selected based on UCB is 2178.\n"
     ]
    }
   ],
   "source": [
    "total_reward, ads_selected, rewards_by_ad = ucb(ads)\n",
    "print(\"Total reward of startegies selected based on UCB is {}.\".format(\n",
    "    total_reward))"
   ]
  },
  {
   "cell_type": "markdown",
   "metadata": {},
   "source": [
    "The total rewards is lifted by approximately 1000. Frequency of the ads selected."
   ]
  },
  {
   "cell_type": "code",
   "execution_count": 29,
   "metadata": {},
   "outputs": [
    {
     "data": {
      "text/plain": [
       "{0: 705,\n",
       " 1: 387,\n",
       " 2: 186,\n",
       " 3: 345,\n",
       " 4: 6323,\n",
       " 5: 150,\n",
       " 6: 292,\n",
       " 7: 1170,\n",
       " 8: 256,\n",
       " 9: 186}"
      ]
     },
     "execution_count": 29,
     "metadata": {},
     "output_type": "execute_result"
    }
   ],
   "source": [
    "counts = dict(Counter(ads_selected))\n",
    "counts"
   ]
  },
  {
   "cell_type": "markdown",
   "metadata": {},
   "source": [
    "Reward each ad earned."
   ]
  },
  {
   "cell_type": "code",
   "execution_count": 30,
   "metadata": {},
   "outputs": [
    {
     "data": {
      "text/plain": [
       "{0: 120, 1: 47, 2: 7, 3: 38, 4: 1675, 5: 1, 6: 27, 7: 236, 8: 20, 9: 7}"
      ]
     },
     "execution_count": 30,
     "metadata": {},
     "output_type": "execute_result"
    }
   ],
   "source": [
    "dict(zip(range(ads.shape[1]), rewards_by_ad))"
   ]
  },
  {
   "cell_type": "code",
   "execution_count": 31,
   "metadata": {},
   "outputs": [
    {
     "data": {
      "image/png": "[encoded data removed]",
      "text/plain": [
       "<Figure size 864x576 with 1 Axes>"
      ]
     },
     "metadata": {},
     "output_type": "display_data"
    }
   ],
   "source": [
    "fig = plt.figure(figsize=[12, 8])\n",
    "ax = fig.add_subplot(1, 1, 1)\n",
    "\n",
    "ax.bar(range(ads.shape[1]), counts.values(), edgecolor=\"black\")\n",
    "ax.set_title(\"Frequency of Advertisement Selections based on UCB\",\n",
    "             fontdict={'fontsize': 15, 'fontweight': \"bold\"})\n",
    "ax.set_xlabel(\"Index of Advertisement\", fontsize=13)\n",
    "ax.set_ylabel(\"Frequency of the Advertisement\", fontsize=13)\n",
    "ax.set_xticks(range(ads.shape[1]))\n",
    "\n",
    "plt.show()"
   ]
  },
  {
   "cell_type": "markdown",
   "metadata": {},
   "source": [
    "### Thompson Sampling from Scratch"
   ]
  },
  {
   "cell_type": "code",
   "execution_count": 45,
   "metadata": {},
   "outputs": [],
   "source": [
    "def thompson_sampling(data, seed=123):\n",
    "    \"\"\"\n",
    "    \"\"\"\n",
    "    np.random.seed(seed)\n",
    "\n",
    "    N, d = data.shape\n",
    "    strategies_selected = []\n",
    "    reward_count_by_strategy = [0] * d\n",
    "    nonreward_count_by_strategy = [0] * d\n",
    "    total_reward = 0\n",
    "\n",
    "    for n in range(0, N):\n",
    "        strategy = 0\n",
    "        max_random = 0\n",
    "        for i in range(0, d):\n",
    "            random_beta = np.random.beta(reward_count_by_strategy[i] + 1,\n",
    "                                         nonreward_count_by_strategy[i] + 1)\n",
    "            if random_beta > max_random:\n",
    "                max_random = random_beta\n",
    "                strategy = i\n",
    "\n",
    "        strategies_selected.append(strategy)\n",
    "        reward = data.values[n, strategy]\n",
    "        if not reward:\n",
    "            nonreward_count_by_strategy[strategy] += 1\n",
    "        else:\n",
    "            reward_count_by_strategy[strategy] += 1\n",
    "        total_reward += reward\n",
    "\n",
    "    return total_reward, strategies_selected"
   ]
  },
  {
   "cell_type": "code",
   "execution_count": 50,
   "metadata": {},
   "outputs": [
    {
     "name": "stdout",
     "output_type": "stream",
     "text": [
      "Total reward of startegies selected based on Thompson Samling is 2582.\n"
     ]
    }
   ],
   "source": [
    "total_reward, ads_selected = thompson_sampling(ads)\n",
    "print(\"Total reward of startegies selected based on Thompson Samling is {}.\".format(total_reward))"
   ]
  },
  {
   "cell_type": "code",
   "execution_count": 66,
   "metadata": {},
   "outputs": [
    {
     "data": {
      "text/plain": [
       "{0: 53, 1: 24, 2: 31, 3: 119, 4: 8902, 5: 34, 6: 47, 7: 686, 8: 68, 9: 36}"
      ]
     },
     "execution_count": 66,
     "metadata": {},
     "output_type": "execute_result"
    }
   ],
   "source": [
    "counts = dict(sorted(Counter(ads_selected).items()))\n",
    "counts"
   ]
  },
  {
   "cell_type": "markdown",
   "metadata": {},
   "source": [
    "Seems Thompson Sampling is finding the dominating strategy and exploit it faster than UBC."
   ]
  },
  {
   "cell_type": "code",
   "execution_count": 67,
   "metadata": {},
   "outputs": [
    {
     "data": {
      "image/png": "[encoded data removed]",
      "text/plain": [
       "<Figure size 864x576 with 1 Axes>"
      ]
     },
     "metadata": {},
     "output_type": "display_data"
    }
   ],
   "source": [
    "fig = plt.figure(figsize=[12, 8])\n",
    "ax = fig.add_subplot(1, 1, 1)\n",
    "\n",
    "ax.bar(range(ads.shape[1]), counts.values(), edgecolor=\"black\")\n",
    "ax.set_title(\"Frequency of Advertisement Selections based on Thompson Sampling\",\n",
    "             fontdict={'fontsize': 15, 'fontweight': \"bold\"})\n",
    "ax.set_xlabel(\"Index of Advertisement\", fontsize=13)\n",
    "ax.set_ylabel(\"Frequency of the Advertisement\", fontsize=13)\n",
    "ax.set_xticks(range(ads.shape[1]))\n",
    "\n",
    "plt.show()"
   ]
  },
  {
   "cell_type": "code",
   "execution_count": null,
   "metadata": {},
   "outputs": [],
   "source": []
  }
 ],
 "metadata": {
  "kernelspec": {
   "display_name": "Python 3",
   "language": "python",
   "name": "python3"
  },
  "language_info": {
   "codemirror_mode": {
    "name": "ipython",
    "version": 3
   },
   "file_extension": ".py",
   "mimetype": "text/x-python",
   "name": "python",
   "nbconvert_exporter": "python",
   "pygments_lexer": "ipython3",
   "version": "3.6.3"
  }
 },
 "nbformat": 4,
 "nbformat_minor": 2
}
