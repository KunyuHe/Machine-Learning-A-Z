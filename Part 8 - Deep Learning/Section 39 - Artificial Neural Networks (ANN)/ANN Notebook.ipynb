{
 "cells": [
  {
   "cell_type": "markdown",
   "metadata": {},
   "source": [
    "# ANN Notebook"
   ]
  },
  {
   "cell_type": "markdown",
   "metadata": {},
   "source": [
    "#### *Author: Kunyu He*\n",
    "#### *University of Chicago, CAPP'20*"
   ]
  },
  {
   "cell_type": "code",
   "execution_count": 18,
   "metadata": {},
   "outputs": [],
   "source": [
    "import pandas as pd\n",
    "import numpy as np\n",
    "import keras\n",
    "\n",
    "from sklearn.preprocessing import LabelEncoder\n",
    "from sklearn.preprocessing import OneHotEncoder\n",
    "from sklearn.model_selection import train_test_split\n",
    "from sklearn.preprocessing import StandardScaler\n",
    "from keras.models import Sequential\n",
    "from keras.layers import Dense\n",
    "from sklearn.metrics import confusion_matrix"
   ]
  },
  {
   "cell_type": "markdown",
   "metadata": {},
   "source": [
    "### Load Data"
   ]
  },
  {
   "cell_type": "code",
   "execution_count": 2,
   "metadata": {
    "scrolled": false
   },
   "outputs": [
    {
     "data": {
      "text/html": [
       "<div>\n",
       "<style scoped>\n",
       "    .dataframe tbody tr th:only-of-type {\n",
       "        vertical-align: middle;\n",
       "    }\n",
       "\n",
       "    .dataframe tbody tr th {\n",
       "        vertical-align: top;\n",
       "    }\n",
       "\n",
       "    .dataframe thead th {\n",
       "        text-align: right;\n",
       "    }\n",
       "</style>\n",
       "<table border=\"1\" class=\"dataframe\">\n",
       "  <thead>\n",
       "    <tr style=\"text-align: right;\">\n",
       "      <th></th>\n",
       "      <th>RowNumber</th>\n",
       "      <th>CustomerId</th>\n",
       "      <th>Surname</th>\n",
       "      <th>CreditScore</th>\n",
       "      <th>Geography</th>\n",
       "      <th>Gender</th>\n",
       "      <th>Age</th>\n",
       "      <th>Tenure</th>\n",
       "      <th>Balance</th>\n",
       "      <th>NumOfProducts</th>\n",
       "      <th>HasCrCard</th>\n",
       "      <th>IsActiveMember</th>\n",
       "      <th>EstimatedSalary</th>\n",
       "      <th>Exited</th>\n",
       "    </tr>\n",
       "  </thead>\n",
       "  <tbody>\n",
       "    <tr>\n",
       "      <th>0</th>\n",
       "      <td>1</td>\n",
       "      <td>15634602</td>\n",
       "      <td>Hargrave</td>\n",
       "      <td>619</td>\n",
       "      <td>France</td>\n",
       "      <td>Female</td>\n",
       "      <td>42</td>\n",
       "      <td>2</td>\n",
       "      <td>0.00</td>\n",
       "      <td>1</td>\n",
       "      <td>1</td>\n",
       "      <td>1</td>\n",
       "      <td>101348.88</td>\n",
       "      <td>1</td>\n",
       "    </tr>\n",
       "    <tr>\n",
       "      <th>1</th>\n",
       "      <td>2</td>\n",
       "      <td>15647311</td>\n",
       "      <td>Hill</td>\n",
       "      <td>608</td>\n",
       "      <td>Spain</td>\n",
       "      <td>Female</td>\n",
       "      <td>41</td>\n",
       "      <td>1</td>\n",
       "      <td>83807.86</td>\n",
       "      <td>1</td>\n",
       "      <td>0</td>\n",
       "      <td>1</td>\n",
       "      <td>112542.58</td>\n",
       "      <td>0</td>\n",
       "    </tr>\n",
       "    <tr>\n",
       "      <th>2</th>\n",
       "      <td>3</td>\n",
       "      <td>15619304</td>\n",
       "      <td>Onio</td>\n",
       "      <td>502</td>\n",
       "      <td>France</td>\n",
       "      <td>Female</td>\n",
       "      <td>42</td>\n",
       "      <td>8</td>\n",
       "      <td>159660.80</td>\n",
       "      <td>3</td>\n",
       "      <td>1</td>\n",
       "      <td>0</td>\n",
       "      <td>113931.57</td>\n",
       "      <td>1</td>\n",
       "    </tr>\n",
       "    <tr>\n",
       "      <th>3</th>\n",
       "      <td>4</td>\n",
       "      <td>15701354</td>\n",
       "      <td>Boni</td>\n",
       "      <td>699</td>\n",
       "      <td>France</td>\n",
       "      <td>Female</td>\n",
       "      <td>39</td>\n",
       "      <td>1</td>\n",
       "      <td>0.00</td>\n",
       "      <td>2</td>\n",
       "      <td>0</td>\n",
       "      <td>0</td>\n",
       "      <td>93826.63</td>\n",
       "      <td>0</td>\n",
       "    </tr>\n",
       "    <tr>\n",
       "      <th>4</th>\n",
       "      <td>5</td>\n",
       "      <td>15737888</td>\n",
       "      <td>Mitchell</td>\n",
       "      <td>850</td>\n",
       "      <td>Spain</td>\n",
       "      <td>Female</td>\n",
       "      <td>43</td>\n",
       "      <td>2</td>\n",
       "      <td>125510.82</td>\n",
       "      <td>1</td>\n",
       "      <td>1</td>\n",
       "      <td>1</td>\n",
       "      <td>79084.10</td>\n",
       "      <td>0</td>\n",
       "    </tr>\n",
       "  </tbody>\n",
       "</table>\n",
       "</div>"
      ],
      "text/plain": [
       "   RowNumber  CustomerId   Surname  CreditScore Geography  Gender  Age  \\\n",
       "0          1    15634602  Hargrave          619    France  Female   42   \n",
       "1          2    15647311      Hill          608     Spain  Female   41   \n",
       "2          3    15619304      Onio          502    France  Female   42   \n",
       "3          4    15701354      Boni          699    France  Female   39   \n",
       "4          5    15737888  Mitchell          850     Spain  Female   43   \n",
       "\n",
       "   Tenure    Balance  NumOfProducts  HasCrCard  IsActiveMember  \\\n",
       "0       2       0.00              1          1               1   \n",
       "1       1   83807.86              1          0               1   \n",
       "2       8  159660.80              3          1               0   \n",
       "3       1       0.00              2          0               0   \n",
       "4       2  125510.82              1          1               1   \n",
       "\n",
       "   EstimatedSalary  Exited  \n",
       "0        101348.88       1  \n",
       "1        112542.58       0  \n",
       "2        113931.57       1  \n",
       "3         93826.63       0  \n",
       "4         79084.10       0  "
      ]
     },
     "execution_count": 2,
     "metadata": {},
     "output_type": "execute_result"
    }
   ],
   "source": [
    "churn = pd.read_csv(\"Churn_Modelling.csv\")\n",
    "churn.head()"
   ]
  },
  {
   "cell_type": "markdown",
   "metadata": {},
   "source": [
    "The bank witnessed high churn (customers leave bank) rate, and wants to lower the exiting rate. We are predicting which customer is leaving the bank."
   ]
  },
  {
   "cell_type": "markdown",
   "metadata": {},
   "source": [
    "### Data Cleaning"
   ]
  },
  {
   "cell_type": "code",
   "execution_count": 3,
   "metadata": {},
   "outputs": [
    {
     "data": {
      "text/plain": [
       "(10000, 14)"
      ]
     },
     "execution_count": 3,
     "metadata": {},
     "output_type": "execute_result"
    }
   ],
   "source": [
    "churn.shape"
   ]
  },
  {
   "cell_type": "code",
   "execution_count": 4,
   "metadata": {},
   "outputs": [
    {
     "data": {
      "text/plain": [
       "RowNumber          0\n",
       "CustomerId         0\n",
       "Surname            0\n",
       "CreditScore        0\n",
       "Geography          0\n",
       "Gender             0\n",
       "Age                0\n",
       "Tenure             0\n",
       "Balance            0\n",
       "NumOfProducts      0\n",
       "HasCrCard          0\n",
       "IsActiveMember     0\n",
       "EstimatedSalary    0\n",
       "Exited             0\n",
       "dtype: int64"
      ]
     },
     "execution_count": 4,
     "metadata": {},
     "output_type": "execute_result"
    }
   ],
   "source": [
    "churn.isnull().sum(axis=0)"
   ]
  },
  {
   "cell_type": "markdown",
   "metadata": {},
   "source": [
    "No value missing."
   ]
  },
  {
   "cell_type": "markdown",
   "metadata": {},
   "source": [
    "### Feature Engineering"
   ]
  },
  {
   "cell_type": "code",
   "execution_count": 5,
   "metadata": {},
   "outputs": [
    {
     "data": {
      "text/plain": [
       "(10000, 10)"
      ]
     },
     "execution_count": 5,
     "metadata": {},
     "output_type": "execute_result"
    }
   ],
   "source": [
    "X = churn.iloc[:, 3:13].values\n",
    "X.shape"
   ]
  },
  {
   "cell_type": "code",
   "execution_count": 6,
   "metadata": {},
   "outputs": [
    {
     "data": {
      "text/plain": [
       "(10000,)"
      ]
     },
     "execution_count": 6,
     "metadata": {},
     "output_type": "execute_result"
    }
   ],
   "source": [
    "y = churn.Exited.values.astype(float)\n",
    "y.shape"
   ]
  },
  {
   "cell_type": "code",
   "execution_count": 7,
   "metadata": {
    "scrolled": true
   },
   "outputs": [
    {
     "data": {
      "text/plain": [
       "(10000, 11)"
      ]
     },
     "execution_count": 7,
     "metadata": {},
     "output_type": "execute_result"
    }
   ],
   "source": [
    "X[:, 2] = LabelEncoder().fit_transform(X[:, 2])\n",
    "\n",
    "dummies = OneHotEncoder(categories=\"auto\").fit_transform(X[:, [1]]).toarray()\n",
    "X = np.delete(X, 1, 1)\n",
    "X = np.column_stack((dummies[:, 1:], X)).astype(float) # drop one category\n",
    "\n",
    "X.shape"
   ]
  },
  {
   "cell_type": "markdown",
   "metadata": {},
   "source": [
    "### Training and Test Set Split"
   ]
  },
  {
   "cell_type": "code",
   "execution_count": 8,
   "metadata": {},
   "outputs": [],
   "source": [
    "X_train, X_test, y_train, y_test = train_test_split(X, y, test_size=0.2,\n",
    "                                                    random_state=123)"
   ]
  },
  {
   "cell_type": "markdown",
   "metadata": {},
   "source": [
    "### Feature Scaling"
   ]
  },
  {
   "cell_type": "code",
   "execution_count": 9,
   "metadata": {},
   "outputs": [],
   "source": [
    "sc_X = StandardScaler()\n",
    "\n",
    "X_train = sc_X.fit_transform(X_train)\n",
    "X_test = sc_X.transform(X_test)"
   ]
  },
  {
   "cell_type": "markdown",
   "metadata": {},
   "source": [
    "### Model Training"
   ]
  },
  {
   "cell_type": "code",
   "execution_count": 14,
   "metadata": {},
   "outputs": [],
   "source": [
    "ann = Sequential()"
   ]
  },
  {
   "cell_type": "markdown",
   "metadata": {},
   "source": [
    "Tip: number of neurons in the hidden layers can be set to the average numbers of neurons in the input and output layers as an initial guess."
   ]
  },
  {
   "cell_type": "code",
   "execution_count": 15,
   "metadata": {},
   "outputs": [],
   "source": [
    "ann.add(Dense(512, activation=\"relu\", input_shape=(11,)))\n",
    "ann.add(Dense(512, activation=\"relu\"))\n",
    "ann.add(Dense(1, activation=\"sigmoid\"))"
   ]
  },
  {
   "cell_type": "code",
   "execution_count": 16,
   "metadata": {},
   "outputs": [],
   "source": [
    "ann.compile(optimizer=\"adam\", loss=\"binary_crossentropy\", metrics=[\"accuracy\"])"
   ]
  },
  {
   "cell_type": "code",
   "execution_count": 17,
   "metadata": {},
   "outputs": [
    {
     "name": "stdout",
     "output_type": "stream",
     "text": [
      "Epoch 1/50\n",
      "8000/8000 [==============================] - 6s 764us/step - loss: 0.3913 - acc: 0.8387\n",
      "Epoch 2/50\n",
      "8000/8000 [==============================] - 6s 703us/step - loss: 0.3542 - acc: 0.8552\n",
      "Epoch 3/50\n",
      "8000/8000 [==============================] - 6s 704us/step - loss: 0.3442 - acc: 0.8612\n",
      "Epoch 4/50\n",
      "8000/8000 [==============================] - 6s 705us/step - loss: 0.3402 - acc: 0.8607\n",
      "Epoch 5/50\n",
      "8000/8000 [==============================] - 6s 706us/step - loss: 0.3338 - acc: 0.8631\n",
      "Epoch 6/50\n",
      "8000/8000 [==============================] - 6s 704us/step - loss: 0.3291 - acc: 0.8646\n",
      "Epoch 7/50\n",
      "8000/8000 [==============================] - 6s 708us/step - loss: 0.3263 - acc: 0.8660\n",
      "Epoch 8/50\n",
      "8000/8000 [==============================] - 6s 706us/step - loss: 0.3227 - acc: 0.8675\n",
      "Epoch 9/50\n",
      "8000/8000 [==============================] - 6s 706us/step - loss: 0.3148 - acc: 0.8675\n",
      "Epoch 10/50\n",
      "8000/8000 [==============================] - 6s 706us/step - loss: 0.3123 - acc: 0.8714\n",
      "Epoch 11/50\n",
      "8000/8000 [==============================] - 6s 706us/step - loss: 0.3057 - acc: 0.8739\n",
      "Epoch 12/50\n",
      "8000/8000 [==============================] - 6s 704us/step - loss: 0.3015 - acc: 0.8757\n",
      "Epoch 13/50\n",
      "8000/8000 [==============================] - 6s 708us/step - loss: 0.2942 - acc: 0.8804\n",
      "Epoch 14/50\n",
      "8000/8000 [==============================] - 6s 707us/step - loss: 0.2891 - acc: 0.8812\n",
      "Epoch 15/50\n",
      "8000/8000 [==============================] - 6s 704us/step - loss: 0.2816 - acc: 0.8836\n",
      "Epoch 16/50\n",
      "8000/8000 [==============================] - 6s 705us/step - loss: 0.2757 - acc: 0.8851\n",
      "Epoch 17/50\n",
      "8000/8000 [==============================] - 6s 707us/step - loss: 0.2684 - acc: 0.8880\n",
      "Epoch 18/50\n",
      "8000/8000 [==============================] - 6s 707us/step - loss: 0.2608 - acc: 0.8936\n",
      "Epoch 19/50\n",
      "8000/8000 [==============================] - 6s 706us/step - loss: 0.2550 - acc: 0.8914\n",
      "Epoch 20/50\n",
      "8000/8000 [==============================] - 6s 715us/step - loss: 0.2483 - acc: 0.8951\n",
      "Epoch 21/50\n",
      "8000/8000 [==============================] - 6s 710us/step - loss: 0.2416 - acc: 0.9001\n",
      "Epoch 22/50\n",
      "8000/8000 [==============================] - 6s 732us/step - loss: 0.2336 - acc: 0.9039\n",
      "Epoch 23/50\n",
      "8000/8000 [==============================] - 6s 731us/step - loss: 0.2281 - acc: 0.9059\n",
      "Epoch 24/50\n",
      "8000/8000 [==============================] - 6s 714us/step - loss: 0.2191 - acc: 0.9099\n",
      "Epoch 25/50\n",
      "8000/8000 [==============================] - 6s 693us/step - loss: 0.2149 - acc: 0.9099\n",
      "Epoch 26/50\n",
      "8000/8000 [==============================] - 7s 814us/step - loss: 0.2032 - acc: 0.9149\n",
      "Epoch 27/50\n",
      "8000/8000 [==============================] - 7s 837us/step - loss: 0.1978 - acc: 0.9161\n",
      "Epoch 28/50\n",
      "8000/8000 [==============================] - 6s 718us/step - loss: 0.1908 - acc: 0.9195\n",
      "Epoch 29/50\n",
      "8000/8000 [==============================] - 5s 681us/step - loss: 0.1820 - acc: 0.9221\n",
      "Epoch 30/50\n",
      "8000/8000 [==============================] - 6s 795us/step - loss: 0.1707 - acc: 0.9279\n",
      "Epoch 31/50\n",
      "8000/8000 [==============================] - 6s 779us/step - loss: 0.1659 - acc: 0.9310\n",
      "Epoch 32/50\n",
      "8000/8000 [==============================] - 6s 756us/step - loss: 0.1616 - acc: 0.9307\n",
      "Epoch 33/50\n",
      "8000/8000 [==============================] - 6s 769us/step - loss: 0.1570 - acc: 0.9356\n",
      "Epoch 34/50\n",
      "8000/8000 [==============================] - 6s 751us/step - loss: 0.1505 - acc: 0.9379\n",
      "Epoch 35/50\n",
      "8000/8000 [==============================] - 6s 754us/step - loss: 0.1419 - acc: 0.9439\n",
      "Epoch 36/50\n",
      "8000/8000 [==============================] - 6s 713us/step - loss: 0.1364 - acc: 0.9440\n",
      "Epoch 37/50\n",
      "8000/8000 [==============================] - 6s 725us/step - loss: 0.1288 - acc: 0.9489\n",
      "Epoch 38/50\n",
      "8000/8000 [==============================] - 6s 753us/step - loss: 0.1270 - acc: 0.9464\n",
      "Epoch 39/50\n",
      "8000/8000 [==============================] - 6s 762us/step - loss: 0.1194 - acc: 0.9536\n",
      "Epoch 40/50\n",
      "8000/8000 [==============================] - 6s 749us/step - loss: 0.1160 - acc: 0.9514\n",
      "Epoch 41/50\n",
      "8000/8000 [==============================] - 6s 745us/step - loss: 0.1107 - acc: 0.9552\n",
      "Epoch 42/50\n",
      "8000/8000 [==============================] - 6s 739us/step - loss: 0.1072 - acc: 0.9556\n",
      "Epoch 43/50\n",
      "8000/8000 [==============================] - 6s 743us/step - loss: 0.1019 - acc: 0.9554\n",
      "Epoch 44/50\n",
      "8000/8000 [==============================] - 6s 753us/step - loss: 0.0996 - acc: 0.9602\n",
      "Epoch 45/50\n",
      "8000/8000 [==============================] - 6s 743us/step - loss: 0.1016 - acc: 0.9574\n",
      "Epoch 46/50\n",
      "8000/8000 [==============================] - 6s 762us/step - loss: 0.0853 - acc: 0.9651\n",
      "Epoch 47/50\n",
      "8000/8000 [==============================] - 6s 740us/step - loss: 0.0923 - acc: 0.9625\n",
      "Epoch 48/50\n",
      "8000/8000 [==============================] - 6s 749us/step - loss: 0.0836 - acc: 0.9655\n",
      "Epoch 49/50\n",
      "8000/8000 [==============================] - 6s 733us/step - loss: 0.0832 - acc: 0.9675\n",
      "Epoch 50/50\n",
      "8000/8000 [==============================] - 6s 726us/step - loss: 0.0871 - acc: 0.9684\n"
     ]
    },
    {
     "data": {
      "text/plain": [
       "<keras.callbacks.History at 0x19bf8a82390>"
      ]
     },
     "execution_count": 17,
     "metadata": {},
     "output_type": "execute_result"
    }
   ],
   "source": [
    "ann.fit(X_train, y_train, batch_size=10, epochs=50)"
   ]
  },
  {
   "cell_type": "markdown",
   "metadata": {},
   "source": [
    "### Model Evaluation"
   ]
  },
  {
   "cell_type": "code",
   "execution_count": 26,
   "metadata": {},
   "outputs": [
    {
     "data": {
      "text/plain": [
       "array([[1449,  137],\n",
       "       [ 221,  193]], dtype=int64)"
      ]
     },
     "execution_count": 26,
     "metadata": {},
     "output_type": "execute_result"
    }
   ],
   "source": [
    "confusion_matrix(y_test, ann.predict(X_test) > 0.5)"
   ]
  },
  {
   "cell_type": "markdown",
   "metadata": {},
   "source": [
    "Obviously, our model is over-fitting the training set. Try a less complex one with less neurons in the hidden layers."
   ]
  },
  {
   "cell_type": "code",
   "execution_count": 28,
   "metadata": {},
   "outputs": [
    {
     "name": "stdout",
     "output_type": "stream",
     "text": [
      "Epoch 1/20\n",
      "8000/8000 [==============================] - 4s 453us/step - loss: 0.5060 - acc: 0.7967\n",
      "Epoch 2/20\n",
      "8000/8000 [==============================] - 3s 410us/step - loss: 0.4389 - acc: 0.7995\n",
      "Epoch 3/20\n",
      "8000/8000 [==============================] - 3s 411us/step - loss: 0.4239 - acc: 0.8127\n",
      "Epoch 4/20\n",
      "8000/8000 [==============================] - 3s 412us/step - loss: 0.4147 - acc: 0.8166\n",
      "Epoch 5/20\n",
      "8000/8000 [==============================] - 3s 423us/step - loss: 0.4051 - acc: 0.8202\n",
      "Epoch 6/20\n",
      "8000/8000 [==============================] - 3s 411us/step - loss: 0.3952 - acc: 0.8286\n",
      "Epoch 7/20\n",
      "8000/8000 [==============================] - 3s 417us/step - loss: 0.3856 - acc: 0.8399\n",
      "Epoch 8/20\n",
      "8000/8000 [==============================] - 3s 414us/step - loss: 0.3751 - acc: 0.8439\n",
      "Epoch 9/20\n",
      "8000/8000 [==============================] - 3s 421us/step - loss: 0.3665 - acc: 0.8501\n",
      "Epoch 10/20\n",
      "8000/8000 [==============================] - 3s 419us/step - loss: 0.3598 - acc: 0.8505\n",
      "Epoch 11/20\n",
      "8000/8000 [==============================] - 3s 421us/step - loss: 0.3549 - acc: 0.8546\n",
      "Epoch 12/20\n",
      "8000/8000 [==============================] - 4s 439us/step - loss: 0.3510 - acc: 0.8572\n",
      "Epoch 13/20\n",
      "8000/8000 [==============================] - 3s 435us/step - loss: 0.3482 - acc: 0.8576\n",
      "Epoch 14/20\n",
      "8000/8000 [==============================] - 3s 433us/step - loss: 0.3453 - acc: 0.8589\n",
      "Epoch 15/20\n",
      "8000/8000 [==============================] - 3s 415us/step - loss: 0.3450 - acc: 0.8581\n",
      "Epoch 16/20\n",
      "8000/8000 [==============================] - 3s 417us/step - loss: 0.3431 - acc: 0.8581\n",
      "Epoch 17/20\n",
      "8000/8000 [==============================] - 3s 425us/step - loss: 0.3420 - acc: 0.8586\n",
      "Epoch 18/20\n",
      "8000/8000 [==============================] - 3s 414us/step - loss: 0.3415 - acc: 0.8600\n",
      "Epoch 19/20\n",
      "8000/8000 [==============================] - 3s 420us/step - loss: 0.3405 - acc: 0.8587\n",
      "Epoch 20/20\n",
      "8000/8000 [==============================] - 3s 421us/step - loss: 0.3399 - acc: 0.8586\n"
     ]
    },
    {
     "data": {
      "text/plain": [
       "<keras.callbacks.History at 0x19bf9e7def0>"
      ]
     },
     "execution_count": 28,
     "metadata": {},
     "output_type": "execute_result"
    }
   ],
   "source": [
    "ann6 = Sequential()\n",
    "ann6.add(Dense(6, activation=\"relu\", input_shape=(11,)))\n",
    "ann6.add(Dense(6, activation=\"relu\"))\n",
    "ann6.add(Dense(1, activation=\"sigmoid\"))\n",
    "ann6.compile(optimizer=\"adam\", loss=\"binary_crossentropy\", metrics=[\"accuracy\"])\n",
    "\n",
    "ann6.fit(X_train, y_train, batch_size=10, epochs=20)"
   ]
  },
  {
   "cell_type": "code",
   "execution_count": 29,
   "metadata": {},
   "outputs": [
    {
     "data": {
      "text/plain": [
       "array([[1527,   59],\n",
       "       [ 217,  197]], dtype=int64)"
      ]
     },
     "execution_count": 29,
     "metadata": {},
     "output_type": "execute_result"
    }
   ],
   "source": [
    "confusion_matrix(y_test, ann6.predict(X_test) > 0.5)"
   ]
  },
  {
   "cell_type": "markdown",
   "metadata": {},
   "source": [
    "No over-fitting."
   ]
  },
  {
   "cell_type": "code",
   "execution_count": null,
   "metadata": {},
   "outputs": [],
   "source": []
  }
 ],
 "metadata": {
  "kernelspec": {
   "display_name": "Python 3",
   "language": "python",
   "name": "python3"
  },
  "language_info": {
   "codemirror_mode": {
    "name": "ipython",
    "version": 3
   },
   "file_extension": ".py",
   "mimetype": "text/x-python",
   "name": "python",
   "nbconvert_exporter": "python",
   "pygments_lexer": "ipython3",
   "version": "3.6.5"
  }
 },
 "nbformat": 4,
 "nbformat_minor": 2
}
